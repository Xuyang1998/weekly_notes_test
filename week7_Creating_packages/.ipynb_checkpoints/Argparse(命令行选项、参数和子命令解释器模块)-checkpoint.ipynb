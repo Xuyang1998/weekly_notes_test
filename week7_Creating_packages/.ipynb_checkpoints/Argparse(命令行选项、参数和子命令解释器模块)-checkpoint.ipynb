{
 "cells": [
  {
   "cell_type": "markdown",
   "metadata": {},
   "source": [
    "# Argparse is the standard library for building programs with a command-line interface."
   ]
  },
  {
   "cell_type": "code",
   "execution_count": 1,
   "metadata": {},
   "outputs": [],
   "source": [
    "def greet(personal, family, title=\"\", polite=False):\n",
    "    greeting = \"How do you do, \" if polite else \"Hey, \"\n",
    "    if title:\n",
    "        greeting += f\"{title} \"\n",
    "\n",
    "    greeting += f\"{personal} {family}.\"\n",
    "    return greeting"
   ]
  },
  {
   "cell_type": "code",
   "execution_count": 2,
   "metadata": {},
   "outputs": [
    {
     "data": {
      "text/plain": [
       "'How do you do, John Cleese.'"
      ]
     },
     "execution_count": 2,
     "metadata": {},
     "output_type": "execute_result"
    }
   ],
   "source": [
    "greet(\"John\", \"Cleese\", polite=True)"
   ]
  },
  {
   "cell_type": "markdown",
   "metadata": {},
   "source": [
    "## If we want to create a command line interface for this function, we need to save it on its own file. To add the capability to accept inputs from the command line we are going to use argparse."
   ]
  },
  {
   "cell_type": "code",
   "execution_count": 3,
   "metadata": {},
   "outputs": [
    {
     "name": "stdout",
     "output_type": "stream",
     "text": [
      "Writing greeter.py\n"
     ]
    }
   ],
   "source": [
    "%%writefile greeter.py\n",
    "#!/usr/bin/env python\n",
    "from argparse import ArgumentParser\n",
    "\n",
    "def greet(personal, family, title=\"\", polite=False):\n",
    "    greeting = \"How do you do, \" if polite else \"Hey, \"\n",
    "    if title:\n",
    "        greeting += f\"{title} \"\n",
    "\n",
    "    greeting += f\"{personal} {family}.\"\n",
    "    return greeting\n",
    "\n",
    "if __name__ == \"__main__\":\n",
    "    parser = ArgumentParser(description=\"Generate appropriate greetings\")\n",
    "    parser.add_argument('--title', '-t')\n",
    "    parser.add_argument('--polite','-p', action=\"store_true\")\n",
    "    parser.add_argument('personal')\n",
    "    parser.add_argument('family')\n",
    "    arguments= parser.parse_args()\n",
    "    \n",
    "    message = greet(arguments.personal, arguments.family,\n",
    "                    arguments.title, arguments.polite)\n",
    "    print(message)"
   ]
  },
  {
   "cell_type": "code",
   "execution_count": 4,
   "metadata": {
    "code_folding": [
     0
    ]
   },
   "outputs": [
    {
     "name": "stdout",
     "output_type": "stream",
     "text": [
      "Microsoft Windows [版本 10.0.18363.1256]\r\n",
      "(c) 2019 Microsoft Corporation。保留所有权利。\r\n",
      "\r\n",
      "D:\\jupyter\\Python\\week7_Creating_packages>python greeter.py John Cleese\n",
      "Hey, John Cleese.\r\n",
      "\r\n",
      "D:\\jupyter\\Python\\week7_Creating_packages>"
     ]
    }
   ],
   "source": [
    "%%cmd\n",
    "python greeter.py John Cleese"
   ]
  },
  {
   "cell_type": "markdown",
   "metadata": {},
   "source": [
    "if you are using Windows commands or powershell terminal (instead of git-bash), \n",
    "then the shebang is ignored and you will have to call python explicitily.\n",
    "Additionally, for the notebooks cells, you need to change bash by cmd.\n",
    "\n",
    "%%cmd\n",
    "python greeter.py John Cleese\n",
    "%%bash\n",
    "./greeter.py John Cleese\n",
    "Hey, John Cleese.\n",
    "We can then use the optional arguments as:\n",
    "\n",
    "%%bash\n",
    "./greeter.py --polite John Cleese\n",
    "How do you do, John Cleese.\n",
    "%%bash\n",
    "./greeter.py John Cleese --title Dr\n",
    "Hey, Dr John Cleese.\n",
    "Yes, he is!\n",
    "\n",
    "%%bash\n",
    "./greeter.py --help"
   ]
  },
  {
   "cell_type": "markdown",
   "metadata": {},
   "source": [
    "Before we move into the next section, let's clean up our if __name__ == \"__main__\": block by creating a function that\n",
    "keeps the argparse magic. We will call that function process."
   ]
  },
  {
   "cell_type": "code",
   "execution_count": null,
   "metadata": {},
   "outputs": [],
   "source": [
    "%%writefile greeter.py\n",
    "#!/usr/bin/env python\n",
    "from argparse import ArgumentParser\n",
    "\n",
    "def greet(personal, family, title=\"\", polite=False):\n",
    "    greeting = \"How do you do, \" if polite else \"Hey, \"\n",
    "    if title:\n",
    "        greeting += f\"{title} \"\n",
    "\n",
    "    greeting += f\"{personal} {family}.\"\n",
    "    return greeting\n",
    "\n",
    "def process():\n",
    "    parser = ArgumentParser(description=\"Generate appropriate greetings\")\n",
    "\n",
    "    parser.add_argument('--title', '-t')\n",
    "    parser.add_argument('--polite', '-p', action=\"store_true\")\n",
    "    parser.add_argument('personal')\n",
    "    parser.add_argument('family')\n",
    "\n",
    "    arguments = parser.parse_args()\n",
    "\n",
    "    print(greet(arguments.personal, arguments.family,\n",
    "                arguments.title, arguments.polite))    \n",
    "\n",
    "if __name__ == \"__main__\":\n",
    "    process()"
   ]
  }
 ],
 "metadata": {
  "kernelspec": {
   "display_name": "Python 3",
   "language": "python",
   "name": "python3"
  },
  "language_info": {
   "codemirror_mode": {
    "name": "ipython",
    "version": 3
   },
   "file_extension": ".py",
   "mimetype": "text/x-python",
   "name": "python",
   "nbconvert_exporter": "python",
   "pygments_lexer": "ipython3",
   "version": "3.7.0"
  },
  "varInspector": {
   "cols": {
    "lenName": 16,
    "lenType": 16,
    "lenVar": 40
   },
   "kernels_config": {
    "python": {
     "delete_cmd_postfix": "",
     "delete_cmd_prefix": "del ",
     "library": "var_list.py",
     "varRefreshCmd": "print(var_dic_list())"
    },
    "r": {
     "delete_cmd_postfix": ") ",
     "delete_cmd_prefix": "rm(",
     "library": "var_list.r",
     "varRefreshCmd": "cat(var_dic_list()) "
    }
   },
   "types_to_exclude": [
    "module",
    "function",
    "builtin_function_or_method",
    "instance",
    "_Feature"
   ],
   "window_display": false
  }
 },
 "nbformat": 4,
 "nbformat_minor": 2
}
