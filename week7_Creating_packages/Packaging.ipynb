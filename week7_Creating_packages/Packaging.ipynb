{
 "cells": [
  {
   "cell_type": "markdown",
   "metadata": {},
   "source": [
    "# Laying out a project\n",
    "When planning to package a project for distribution, defining a suitable project layout is essential. A typical layout might look like this:\n",
    "\n",
    "repository_name\n",
    "|-- module_name\n",
    "|   |-- __init__.py\n",
    "|   |-- python_file.py\n",
    "|   |-- another_python_file.py\n",
    "|   `-- test\n",
    "|       |-- fixtures\n",
    "|       |   `-- fixture_file.yaml\n",
    "|       |-- __init__.py\n",
    "|       `-- test_python_file.py\n",
    "|-- LICENSE.md\n",
    "|-- CITATION.md\n",
    "|-- README.md\n",
    "`-- setup.py\n",
    "To achieve this for our greetings.py file from the previous session, we can use the commands shown below. We can start by making our directory structure. You can create many nested directories at once using the -p switch on mkdir.\n",
    "\n",
    "%%bash\n",
    "mkdir -p greetings_repo/greetings/test/fixture\n",
    "\n",
    "For this notebook, since we are going to be modifying the files bit by bit, \n",
    "we are going to use the autoreload ipython magic so that we don't need to restart the kernel."
   ]
  },
  {
   "cell_type": "code",
   "execution_count": 4,
   "metadata": {},
   "outputs": [],
   "source": [
    "%load_ext autoreload\n",
    "%autoreload 2"
   ]
  },
  {
   "cell_type": "markdown",
   "metadata": {
    "heading_collapsed": true
   },
   "source": [
    "## Using setuptools\n",
    "\n",
    "To make python code into a package, we need to write a **setup.py** file. For now we are adding only the name of the package and its version number."
   ]
  },
  {
   "cell_type": "code",
   "execution_count": 40,
   "metadata": {
    "hidden": true
   },
   "outputs": [
    {
     "name": "stdout",
     "output_type": "stream",
     "text": [
      "Overwriting greetings_repo/setup.py\n"
     ]
    }
   ],
   "source": [
    "%%writefile greetings_repo/setup.py\n",
    "\n",
    "from setuptools import setup, find_packages\n",
    "\n",
    "setup(\n",
    "    name=\"Greetings\",\n",
    "    version=\"0.1.0\",\n",
    "    packages=find_packages(),\n",
    ")"
   ]
  },
  {
   "cell_type": "code",
   "execution_count": 41,
   "metadata": {
    "hidden": true
   },
   "outputs": [
    {
     "ename": "SyntaxError",
     "evalue": "invalid syntax (<ipython-input-41-07eee354c427>, line 2)",
     "output_type": "error",
     "traceback": [
      "\u001b[1;36m  File \u001b[1;32m\"<ipython-input-41-07eee354c427>\"\u001b[1;36m, line \u001b[1;32m2\u001b[0m\n\u001b[1;33m    %%cmd\u001b[0m\n\u001b[1;37m    ^\u001b[0m\n\u001b[1;31mSyntaxError\u001b[0m\u001b[1;31m:\u001b[0m invalid syntax\n"
     ]
    }
   ],
   "source": [
    "# We can now install this \"package\" with pip:\n",
    "%%cmd\n",
    "cd greetings_repo\n",
    "pip install ."
   ]
  },
  {
   "cell_type": "markdown",
   "metadata": {
    "hidden": true
   },
   "source": [
    "%%bash\n",
    "\n",
    "touch greetings_repo/greetings/__init__.py"
   ]
  },
  {
   "cell_type": "code",
   "execution_count": 42,
   "metadata": {
    "hidden": true
   },
   "outputs": [
    {
     "name": "stdout",
     "output_type": "stream",
     "text": [
      "Overwriting greetings_repo/greetings/greeter.py\n"
     ]
    }
   ],
   "source": [
    "%%writefile greetings_repo/greetings/greeter.py\n",
    "\n",
    "def greet(personal, family, title=\"\", polite=False):\n",
    "    greeting = \"How do you do, \" if polite else \"Hey, \"\n",
    "    if title:\n",
    "        greeting += f\"{title} \"\n",
    "\n",
    "    greeting += f\"{personal} {family}.\"\n",
    "    return greeting"
   ]
  },
  {
   "cell_type": "markdown",
   "metadata": {
    "heading_collapsed": true
   },
   "source": [
    "## For the changes to take effect, we need to reinstall the library:**\n",
    "%%cmd\n",
    "<br/>\n",
    "cd greetings_repo\n",
    "<br/>\n",
    "pip install ."
   ]
  },
  {
   "cell_type": "code",
   "execution_count": 43,
   "metadata": {
    "hidden": true
   },
   "outputs": [
    {
     "data": {
      "text/plain": [
       "'Hey, Terry Gilliam.'"
      ]
     },
     "execution_count": 43,
     "metadata": {},
     "output_type": "execute_result"
    }
   ],
   "source": [
    "from greetings.greeter import greet\n",
    "greet(\"Terry\",\"Gilliam\")"
   ]
  },
  {
   "cell_type": "code",
   "execution_count": 44,
   "metadata": {
    "code_folding": [],
    "hidden": true,
    "scrolled": false
   },
   "outputs": [
    {
     "name": "stdout",
     "output_type": "stream",
     "text": [
      "Microsoft Windows [版本 10.0.18363.1256]\r\n",
      "(c) 2019 Microsoft Corporation。保留所有权利。\r\n",
      "\r\n",
      "D:\\jupyter\\Python\\week7_Creating_packages>cd greetings_repo\n",
      "\r\n",
      "D:\\jupyter\\Python\\week7_Creating_packages\\greetings_repo>pip install .\n",
      "Processing d:\\jupyter\\python\\week7_creating_packages\\greetings_repo\r\n",
      "Building wheels for collected packages: Greetings\r\n",
      "  Building wheel for Greetings (setup.py): started\r\n",
      "  Building wheel for Greetings (setup.py): finished with status 'done'\r\n",
      "  Created wheel for Greetings: filename=Greetings-0.1.0-py3-none-any.whl size=1932 sha256=4fd8ce55d6ab45a9ceaa2e61f228ea6366b9efbd39fac87db7c9bf587dc05226\r\n",
      "  Stored in directory: C:\\Users\\11856\\AppData\\Local\\Temp\\pip-ephem-wheel-cache-dul8n12b\\wheels\\56\\78\\3a\\475323a9758c7c1837132a7ad392866f7970b812516501899b\r\n",
      "Successfully built Greetings\r\n",
      "Installing collected packages: Greetings\r\n",
      "  Attempting uninstall: Greetings\r\n",
      "    Found existing installation: Greetings 0.1.0\r\n",
      "    Uninstalling Greetings-0.1.0:\r\n",
      "      Successfully uninstalled Greetings-0.1.0\r\n",
      "Successfully installed Greetings-0.1.0\r\n",
      "\r\n",
      "D:\\jupyter\\Python\\week7_Creating_packages\\greetings_repo>"
     ]
    }
   ],
   "source": [
    "%%cmd\n",
    "cd greetings_repo\n",
    "pip install ."
   ]
  },
  {
   "cell_type": "code",
   "execution_count": 45,
   "metadata": {
    "hidden": true
   },
   "outputs": [
    {
     "data": {
      "text/plain": [
       "'Hey, Terry Gilliam.'"
      ]
     },
     "execution_count": 45,
     "metadata": {},
     "output_type": "execute_result"
    }
   ],
   "source": [
    "from greetings.greeter import greet\n",
    "greet(\"Terry\",\"Gilliam\")"
   ]
  },
  {
   "cell_type": "markdown",
   "metadata": {
    "heading_collapsed": true
   },
   "source": [
    "## We need to add docstrings to our functions, so people can know how to use them."
   ]
  },
  {
   "cell_type": "code",
   "execution_count": 46,
   "metadata": {
    "hidden": true
   },
   "outputs": [
    {
     "name": "stdout",
     "output_type": "stream",
     "text": [
      "Overwriting greetings_repo/greetings/greeter.py\n"
     ]
    }
   ],
   "source": [
    "%%writefile greetings_repo/greetings/greeter.py\n",
    "\n",
    "def greet(personal, family, title=\"\", polite=False):\n",
    "    \"\"\" Generate a greeting string for a person.\n",
    "    Parameters\n",
    "    ----------\n",
    "    personal: str\n",
    "        A given name, such as Will or Jean-Luc\n",
    "    family: str\n",
    "        A family name, such as Riker or Picard\n",
    "    title: str\n",
    "        An optional title, such as Captain or Reverend\n",
    "    polite: bool\n",
    "        True for a formal greeting, False for informal.\n",
    "    Returns\n",
    "    -------\n",
    "    string\n",
    "        An appropriate greeting\n",
    "    Examples\n",
    "    --------\n",
    "    >>> from greetings.greeter import greet\n",
    "    >>> greet(\"Terry\", \"Jones\")\n",
    "    'Hey, Terry Jones.\n",
    "    \"\"\"\n",
    "\n",
    "    greeting = \"How do you do, \" if polite else \"Hey, \"\n",
    "    if title:\n",
    "        greeting += f\"{title} \"\n",
    "\n",
    "    greeting += f\"{personal} {family}.\"\n",
    "    return greeting"
   ]
  },
  {
   "cell_type": "code",
   "execution_count": 47,
   "metadata": {
    "hidden": true
   },
   "outputs": [
    {
     "name": "stdout",
     "output_type": "stream",
     "text": [
      "Help on function greet in module greetings.greeter:\n",
      "\n",
      "greet(personal, family, title='', polite=False)\n",
      "\n"
     ]
    }
   ],
   "source": [
    "help(greet)"
   ]
  },
  {
   "cell_type": "code",
   "execution_count": 48,
   "metadata": {
    "hidden": true
   },
   "outputs": [
    {
     "name": "stdout",
     "output_type": "stream",
     "text": [
      "Overwriting greetings_repo/greetings/command.py\n"
     ]
    }
   ],
   "source": [
    "%%writefile greetings_repo/greetings/command.py\n",
    "\n",
    "from argparse import ArgumentParser\n",
    "\n",
    "from .greeter import greet\n",
    "\n",
    "\n",
    "def process():\n",
    "    parser = ArgumentParser(description=\"Generate appropriate greetings\")\n",
    "\n",
    "    parser.add_argument('--title', '-t')\n",
    "    parser.add_argument('--polite', '-p', action=\"store_true\")\n",
    "    parser.add_argument('personal')\n",
    "    parser.add_argument('family')\n",
    "\n",
    "    arguments = parser.parse_args()\n",
    "\n",
    "    print(greet(arguments.personal, arguments.family,\n",
    "                arguments.title, arguments.polite))\n",
    "\n",
    "\n",
    "if __name__ == \"__main__\":\n",
    "    process()"
   ]
  },
  {
   "cell_type": "markdown",
   "metadata": {
    "heading_collapsed": true
   },
   "source": [
    "## Specify entry point\n",
    "This allows us to create a command to execute part of our library. In this case when we execute greet on the terminal, we will be calling the process function under greetings/command.py."
   ]
  },
  {
   "cell_type": "code",
   "execution_count": 49,
   "metadata": {
    "hidden": true
   },
   "outputs": [
    {
     "name": "stdout",
     "output_type": "stream",
     "text": [
      "Overwriting greetings_repo/setup.py\n"
     ]
    }
   ],
   "source": [
    "%%writefile greetings_repo/setup.py\n",
    "\n",
    "from setuptools import setup, find_packages\n",
    "\n",
    "setup(\n",
    "    name=\"Greetings\",\n",
    "    version=\"0.1.0\",\n",
    "    packages=find_packages(),\n",
    "    entry_points={\n",
    "        'console_scripts': [\n",
    "            'greet = greetings.command:process'\n",
    "        ]})"
   ]
  },
  {
   "cell_type": "code",
   "execution_count": 50,
   "metadata": {
    "hidden": true
   },
   "outputs": [
    {
     "name": "stdout",
     "output_type": "stream",
     "text": [
      "Microsoft Windows [版本 10.0.18363.1256]\r\n",
      "(c) 2019 Microsoft Corporation。保留所有权利。\r\n",
      "\r\n",
      "D:\\jupyter\\Python\\week7_Creating_packages>cd greetings_repo\n",
      "\r\n",
      "D:\\jupyter\\Python\\week7_Creating_packages\\greetings_repo>pip install -e .\n",
      "Obtaining file:///D:/jupyter/Python/week7_Creating_packages/greetings_repo\r\n",
      "Installing collected packages: Greetings\r\n",
      "  Attempting uninstall: Greetings\r\n",
      "    Found existing installation: Greetings 0.1.0\r\n",
      "    Uninstalling Greetings-0.1.0:\r\n",
      "      Successfully uninstalled Greetings-0.1.0\r\n",
      "  Running setup.py develop for Greetings\r\n",
      "Successfully installed Greetings\r\n",
      "\r\n",
      "D:\\jupyter\\Python\\week7_Creating_packages\\greetings_repo>"
     ]
    }
   ],
   "source": [
    "%%cmd\n",
    "cd greetings_repo\n",
    "pip install -e ."
   ]
  },
  {
   "cell_type": "code",
   "execution_count": 51,
   "metadata": {
    "hidden": true
   },
   "outputs": [
    {
     "name": "stdout",
     "output_type": "stream",
     "text": [
      "Microsoft Windows [版本 10.0.18363.1256]\r\n",
      "(c) 2019 Microsoft Corporation。保留所有权利。\r\n",
      "\r\n",
      "D:\\jupyter\\Python\\week7_Creating_packages>greet --help\n",
      "usage: greet [-h] [--title TITLE] [--polite] personal family\r\n",
      "\r\n",
      "Generate appropriate greetings\r\n",
      "\r\n",
      "positional arguments:\r\n",
      "  personal\r\n",
      "  family\r\n",
      "\r\n",
      "optional arguments:\r\n",
      "  -h, --help            show this help message and exit\r\n",
      "  --title TITLE, -t TITLE\r\n",
      "  --polite, -p\r\n",
      "\r\n",
      "D:\\jupyter\\Python\\week7_Creating_packages>"
     ]
    }
   ],
   "source": [
    "%%cmd\n",
    "greet --help"
   ]
  },
  {
   "cell_type": "code",
   "execution_count": 52,
   "metadata": {
    "hidden": true
   },
   "outputs": [
    {
     "name": "stdout",
     "output_type": "stream",
     "text": [
      "Microsoft Windows [版本 10.0.18363.1256]\r\n",
      "(c) 2019 Microsoft Corporation。保留所有权利。\r\n",
      "\r\n",
      "D:\\jupyter\\Python\\week7_Creating_packages>greet Terry Gilliam\n",
      "Hey, Terry Gilliam.\r\n",
      "\r\n",
      "D:\\jupyter\\Python\\week7_Creating_packages>greet --polite Terry Gilliam\n",
      "How do you do, Terry Gilliam.\r\n",
      "\r\n",
      "D:\\jupyter\\Python\\week7_Creating_packages>greet Terry Gilliam --title Cartoonist\n",
      "Hey, Cartoonist Terry Gilliam.\r\n",
      "\r\n",
      "D:\\jupyter\\Python\\week7_Creating_packages>"
     ]
    }
   ],
   "source": [
    "%%cmd\n",
    "greet Terry Gilliam\n",
    "greet --polite Terry Gilliam\n",
    "greet Terry Gilliam --title Cartoonist"
   ]
  },
  {
   "cell_type": "markdown",
   "metadata": {
    "heading_collapsed": true
   },
   "source": [
    "## Specify dependencies\n",
    "install_requires=['art', 'pyyaml'], (**in set_up.py file**)"
   ]
  },
  {
   "cell_type": "code",
   "execution_count": 54,
   "metadata": {
    "code_folding": [],
    "hidden": true
   },
   "outputs": [
    {
     "name": "stdout",
     "output_type": "stream",
     "text": [
      "Overwriting greetings_repo/greetings/command.py\n"
     ]
    }
   ],
   "source": [
    "%%writefile greetings_repo/greetings/command.py\n",
    "\n",
    "from argparse import ArgumentParser\n",
    "\n",
    "from art import art\n",
    "\n",
    "from .greeter import greet\n",
    "\n",
    "\n",
    "def process():\n",
    "    parser = ArgumentParser(description=\"Generate appropriate greetings\")\n",
    "\n",
    "    parser.add_argument('--title', '-t')\n",
    "    parser.add_argument('--polite', '-p', action=\"store_true\")\n",
    "    parser.add_argument('personal')\n",
    "    parser.add_argument('family')\n",
    "\n",
    "    arguments = parser.parse_args()\n",
    "\n",
    "    message = greet(arguments.personal, arguments.family,\n",
    "                    arguments.title, arguments.polite)\n",
    "    print(art(\"cute face\"), message)\n",
    "\n",
    "if __name__ == \"__main__\":\n",
    "    process()"
   ]
  },
  {
   "cell_type": "code",
   "execution_count": 55,
   "metadata": {
    "hidden": true
   },
   "outputs": [
    {
     "name": "stdout",
     "output_type": "stream",
     "text": [
      "Overwriting greetings_repo/setup.py\n"
     ]
    }
   ],
   "source": [
    "%%writefile greetings_repo/setup.py\n",
    "\n",
    "from setuptools import setup, find_packages\n",
    "\n",
    "setup(\n",
    "    name=\"Greetings\",\n",
    "    version=\"0.1.0\",\n",
    "    packages=find_packages(),\n",
    "    install_requires=['art', 'pyyaml'],\n",
    "    entry_points={\n",
    "        'console_scripts': [\n",
    "            'greet = greetings.command:process'\n",
    "        ]}    \n",
    "    )"
   ]
  },
  {
   "cell_type": "code",
   "execution_count": 56,
   "metadata": {
    "hidden": true
   },
   "outputs": [
    {
     "name": "stdout",
     "output_type": "stream",
     "text": [
      "Microsoft Windows [版本 10.0.18363.1256]\r\n",
      "(c) 2019 Microsoft Corporation。保留所有权利。\r\n",
      "\r\n",
      "D:\\jupyter\\Python\\week7_Creating_packages>cd greetings_repo\n",
      "\r\n",
      "D:\\jupyter\\Python\\week7_Creating_packages\\greetings_repo>pip install -e .\n",
      "Obtaining file:///D:/jupyter/Python/week7_Creating_packages/greetings_repo\r\n",
      "Requirement already satisfied: art in d:\\anaconda\\lib\\site-packages (from Greetings==0.1.0) (5.0)\r\n",
      "Requirement already satisfied: pyyaml in d:\\anaconda\\lib\\site-packages (from Greetings==0.1.0) (3.13)\r\n",
      "Installing collected packages: Greetings\r\n",
      "  Attempting uninstall: Greetings\r\n",
      "    Found existing installation: Greetings 0.1.0\r\n",
      "    Uninstalling Greetings-0.1.0:\r\n",
      "      Successfully uninstalled Greetings-0.1.0\r\n",
      "  Running setup.py develop for Greetings\r\n",
      "Successfully installed Greetings\r\n",
      "\r\n",
      "D:\\jupyter\\Python\\week7_Creating_packages\\greetings_repo>"
     ]
    }
   ],
   "source": [
    "%%cmd\n",
    "cd greetings_repo\n",
    "pip install -e ."
   ]
  },
  {
   "cell_type": "code",
   "execution_count": 57,
   "metadata": {
    "hidden": true
   },
   "outputs": [
    {
     "name": "stdout",
     "output_type": "stream",
     "text": [
      "Microsoft Windows [版本 10.0.18363.1256]\r\n",
      "(c) 2019 Microsoft Corporation。保留所有权利。\r\n",
      "\r\n",
      "D:\\jupyter\\Python\\week7_Creating_packages>greet Terry Gilliam\n",
      "\r\n",
      "D:\\jupyter\\Python\\week7_Creating_packages>"
     ]
    },
    {
     "name": "stderr",
     "output_type": "stream",
     "text": [
      "Traceback (most recent call last):\r\n",
      "  File \"D:\\ANACONDA\\Scripts\\greet-script.py\", line 11, in <module>\r\n",
      "    load_entry_point('Greetings', 'console_scripts', 'greet')()\r\n",
      "  File \"d:\\jupyter\\python\\week7_creating_packages\\greetings_repo\\greetings\\command.py\", line 21, in process\r\n",
      "    print(art(\"cute face\"), message)\r\n",
      "UnicodeEncodeError: 'gbk' codec can't encode character '\\uff61' in position 1: illegal multibyte sequence\r\n"
     ]
    }
   ],
   "source": [
    "%%cmd\n",
    "greet Terry Gilliam"
   ]
  },
  {
   "cell_type": "markdown",
   "metadata": {},
   "source": [
    "## Installing from GitHub\n",
    "\n",
    "We could now submit \"greeter\" to PyPI for approval, so everyone could pip install it.\n",
    "\n",
    "However, when using git, we don't even need to do that: we can install directly from any git URL:\n",
    "<br/>\n",
    "**pip install git+git://github.com/ucl-rits/greeter**"
   ]
  },
  {
   "cell_type": "markdown",
   "metadata": {},
   "source": [
    "## Write a readme file\n",
    "The readme file might look like this:\n",
    "\n",
    "%%writefile greetings_repo/README.md\n",
    "\n",
    "# Greetings!\n",
    "\n",
    "This is a very simple example package used as part of the UCL\n",
    "[Research Software Engineering with Python](development.rc.ucl.ac.uk/training/engineering) course.\n",
    "\n",
    "## Installation\n",
    "\n",
    "```bash\n",
    "pip install git+git://github.com/ucl-rits/greeter\n",
    "```\n",
    "\n",
    "## Usage\n",
    "    \n",
    "Invoke the tool with `greet <FirstName> <Secondname>` or use it on your own library:\n",
    "\n",
    "```python\n",
    "from greeting import greeter\n",
    "\n",
    "greeter.greet(user.name, user.lastname)\n",
    "```"
   ]
  },
  {
   "cell_type": "markdown",
   "metadata": {},
   "source": [
    "## Write a license file\n",
    "For now let's assume we want to release this package into the public domain:"
   ]
  },
  {
   "cell_type": "code",
   "execution_count": 61,
   "metadata": {},
   "outputs": [
    {
     "name": "stdout",
     "output_type": "stream",
     "text": [
      "Overwriting greetings_repo/LICENSE.md\n"
     ]
    }
   ],
   "source": [
    "%%writefile greetings_repo/LICENSE.md\n",
    "\n",
    "(C) University College London 2014\n",
    "\n",
    "This \"greetings\" example package is granted into the public domain.\n",
    "Writing greetings_repo/LICENSE.md"
   ]
  },
  {
   "cell_type": "markdown",
   "metadata": {},
   "source": [
    "## Write a citation file\n",
    "A citation file will inform our users how we would like to be cited when refering to our software:"
   ]
  },
  {
   "cell_type": "code",
   "execution_count": 63,
   "metadata": {},
   "outputs": [
    {
     "name": "stdout",
     "output_type": "stream",
     "text": [
      "Writing greetings_repo/CITATION.md\n"
     ]
    }
   ],
   "source": [
    "%%writefile greetings_repo/CITATION.md\n",
    "\n",
    "If you wish to refer to this course, please cite the URL\n",
    "http://github-pages.ucl.ac.uk/rsd-engineeringcourse/\n",
    "\n",
    "Portions of the material are taken from [Software Carpentry](http://software-carpentry.org/)"
   ]
  },
  {
   "cell_type": "markdown",
   "metadata": {},
   "source": [
    "## Define packages and executables\n",
    "We need to create __init__ files for the source and the tests."
   ]
  },
  {
   "cell_type": "code",
   "execution_count": 67,
   "metadata": {
    "scrolled": true
   },
   "outputs": [
    {
     "name": "stdout",
     "output_type": "stream",
     "text": [
      "Couldn't find program: 'bash'\n"
     ]
    }
   ],
   "source": [
    "%%bash\n",
    "touch greetings/greetings/test/__init__.py\n",
    "touch greetings/greetings/__init__.py"
   ]
  },
  {
   "cell_type": "markdown",
   "metadata": {},
   "source": [
    "## Write some unit tests\n",
    "We can now write some tests to our library.\n",
    "<br/>\n",
    "Remember, that we need to create the empty`__init__.py` so that pytest can follow the relative imports.\n",
    "<br/>\n",
    "<br/>\n",
    "%%bash\n",
    "<br/>\n",
    "touch greetings_repo/greetings/test/__init__.py"
   ]
  },
  {
   "cell_type": "code",
   "execution_count": 68,
   "metadata": {},
   "outputs": [
    {
     "name": "stdout",
     "output_type": "stream",
     "text": [
      "Writing greetings_repo/greetings/test/test_greeter.py\n"
     ]
    }
   ],
   "source": [
    "%%writefile greetings_repo/greetings/test/test_greeter.py\n",
    "\n",
    "import os\n",
    "\n",
    "import yaml\n",
    "\n",
    "from ..greeter import greet\n",
    "\n",
    "def test_greet():\n",
    "    with open(os.path.join(os.path.dirname(__file__),\n",
    "                           'fixtures',\n",
    "                           'samples.yaml')) as fixtures_file:\n",
    "        fixtures = yaml.safe_load(fixtures_file)\n",
    "        for fixture in fixtures:\n",
    "            answer = fixture.pop('answer')\n",
    "            assert greet(**fixture) == answer"
   ]
  },
  {
   "cell_type": "code",
   "execution_count": 70,
   "metadata": {},
   "outputs": [
    {
     "name": "stdout",
     "output_type": "stream",
     "text": [
      "Writing greetings_repo/greetings/test/fixtures/samples.yaml\n"
     ]
    }
   ],
   "source": [
    "\n",
    "%%writefile greetings_repo/greetings/test/fixtures/samples.yaml\n",
    "\n",
    "- personal: Eric\n",
    "  family: Idle\n",
    "  answer: \"Hey, Eric Idle.\"\n",
    "- personal: Graham\n",
    "  family: Chapman\n",
    "  polite: True\n",
    "  answer: \"How do you do, Graahm Chapman.\"\n",
    "- personal: Michael\n",
    "  family: Palin\n",
    "  title: CBE\n",
    "  answer: \"Hey, CBE Mike Palin.\"  "
   ]
  },
  {
   "cell_type": "code",
   "execution_count": 71,
   "metadata": {},
   "outputs": [
    {
     "name": "stdout",
     "output_type": "stream",
     "text": [
      "Microsoft Windows [版本 10.0.18363.1256]\r\n",
      "(c) 2019 Microsoft Corporation。保留所有权利。\r\n",
      "\r\n",
      "D:\\jupyter\\Python\\week7_Creating_packages>\n",
      "D:\\jupyter\\Python\\week7_Creating_packages>cd greetings_repo\n",
      "\r\n",
      "D:\\jupyter\\Python\\week7_Creating_packages\\greetings_repo>pytest\n",
      "============================= test session starts =============================\r\n",
      "platform win32 -- Python 3.7.0, pytest-6.1.2, py-1.9.0, pluggy-0.13.1\r\n",
      "rootdir: D:\\jupyter\\Python\\week7_Creating_packages\\greetings_repo\r\n",
      "plugins: arraydiff-0.2, doctestplus-0.1.3, openfiles-0.3.0, remotedata-0.3.2\r\n",
      "collected 1 item\r\n",
      "\r\n",
      "greetings\\test\\test_greeter.py F                                         [100%]\r\n",
      "\r\n",
      "================================== FAILURES ===================================\r\n",
      "_________________________________ test_greet __________________________________\r\n",
      "\r\n",
      "    def test_greet():\r\n",
      "        with open(os.path.join(os.path.dirname(__file__),\r\n",
      "                               'fixtures',\r\n",
      "                               'samples.yaml')) as fixtures_file:\r\n",
      "            fixtures = yaml.safe_load(fixtures_file)\r\n",
      "            for fixture in fixtures:\r\n",
      "                answer = fixture.pop('answer')\r\n",
      ">               assert greet(**fixture) == answer\r\n",
      "E               AssertionError: assert 'How do you d...aham Chapman.' == 'How do you d...aahm Chapman.'\r\n",
      "E                 - How do you do, Graahm Chapman.\r\n",
      "E                 ?                    -\r\n",
      "E                 + How do you do, Graham Chapman.\r\n",
      "E                 ?                   +\r\n",
      "\r\n",
      "greetings\\test\\test_greeter.py:15: AssertionError\r\n",
      "============================== warnings summary ===============================\r\n",
      "greetings/test/test_greeter.py::test_greet\r\n",
      "  d:\\anaconda\\lib\\site-packages\\yaml\\constructor.py:126: DeprecationWarning: Using or importing the ABCs from 'collections' instead of from 'collections.abc' is deprecated, and in 3.8 it will stop working\r\n",
      "    if not isinstance(key, collections.Hashable):\r\n",
      "\r\n",
      "-- Docs: https://docs.pytest.org/en/stable/warnings.html\r\n",
      "=========================== short test summary info ===========================\r\n",
      "FAILED greetings/test/test_greeter.py::test_greet - AssertionError: assert 'H...\r\n",
      "======================== 1 failed, 1 warning in 0.09s =========================\r\n",
      "\r\n",
      "D:\\jupyter\\Python\\week7_Creating_packages\\greetings_repo>"
     ]
    }
   ],
   "source": [
    "%%cmd --no-raise-error\n",
    "\n",
    "cd greetings_repo\n",
    "pytest"
   ]
  }
 ],
 "metadata": {
  "kernelspec": {
   "display_name": "Python 3",
   "language": "python",
   "name": "python3"
  },
  "language_info": {
   "codemirror_mode": {
    "name": "ipython",
    "version": 3
   },
   "file_extension": ".py",
   "mimetype": "text/x-python",
   "name": "python",
   "nbconvert_exporter": "python",
   "pygments_lexer": "ipython3",
   "version": "3.7.0"
  },
  "varInspector": {
   "cols": {
    "lenName": 16,
    "lenType": 16,
    "lenVar": 40
   },
   "kernels_config": {
    "python": {
     "delete_cmd_postfix": "",
     "delete_cmd_prefix": "del ",
     "library": "var_list.py",
     "varRefreshCmd": "print(var_dic_list())"
    },
    "r": {
     "delete_cmd_postfix": ") ",
     "delete_cmd_prefix": "rm(",
     "library": "var_list.r",
     "varRefreshCmd": "cat(var_dic_list()) "
    }
   },
   "types_to_exclude": [
    "module",
    "function",
    "builtin_function_or_method",
    "instance",
    "_Feature"
   ],
   "window_display": false
  }
 },
 "nbformat": 4,
 "nbformat_minor": 2
}
