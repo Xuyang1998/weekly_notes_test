{
 "cells": [
  {
   "cell_type": "markdown",
   "metadata": {},
   "source": [
    "# Writing Python in Notebook"
   ]
  },
  {
   "cell_type": "code",
   "execution_count": 7,
   "metadata": {},
   "outputs": [],
   "source": [
    "import os\n",
    "if 'mazetool' not in os.listdir(os.getcwd()):\n",
    "    os.mkdir('mazetool')"
   ]
  },
  {
   "cell_type": "code",
   "execution_count": 2,
   "metadata": {
    "code_folding": []
   },
   "outputs": [
    {
     "name": "stdout",
     "output_type": "stream",
     "text": [
      "Writing mazetool/maze.py\n"
     ]
    }
   ],
   "source": [
    "%%writefile mazetool/maze.py\n",
    "\n",
    "from .room import Room\n",
    "from .person import Person\n",
    "\n",
    "class Maze(object):\n",
    "    def __init__(self, name):\n",
    "        self.name = name\n",
    "        self.rooms = []\n",
    "        self.occupants = []\n",
    "        \n",
    "    def add_room(self, name, capacity):\n",
    "        result = Room(name, capacity)\n",
    "        self.rooms.append(result)\n",
    "        return result\n",
    "        \n",
    "    def add_exit(self, name, source, target, reverse= None):\n",
    "        source.add_exit(name, target)\n",
    "        if reverse:\n",
    "            target.add_exit(reverse, source)\n",
    "            \n",
    "    def add_occupant(self, name, room):\n",
    "        self.occupants.append(Person(name, room))\n",
    "        room.occupancy += 1\n",
    "    \n",
    "    def wander(self):\n",
    "        \"Move all the people in a random direction\"\n",
    "        for occupant in self.occupants:\n",
    "            occupant.wander()\n",
    "                \n",
    "    def describe(self):\n",
    "        for occupant in self.occupants:\n",
    "            occupant.describe()\n",
    "            \n",
    "    def step(self):\n",
    "        house.describe()\n",
    "        print()\n",
    "        house.wander()\n",
    "        print()\n",
    "        \n",
    "    def simulate(self, steps):\n",
    "        for _ in range(steps):\n",
    "            self.step()"
   ]
  },
  {
   "cell_type": "code",
   "execution_count": 3,
   "metadata": {
    "code_folding": [
     0
    ]
   },
   "outputs": [
    {
     "name": "stdout",
     "output_type": "stream",
     "text": [
      "Writing mazetool/room.py\n"
     ]
    }
   ],
   "source": [
    "%%writefile mazetool/room.py\n",
    "from .exit import Exit\n",
    "\n",
    "\n",
    "class Room(object):\n",
    "    def __init__(self, name, capacity):\n",
    "        self.name = name\n",
    "        self.capacity = capacity\n",
    "        self.occupancy = 0\n",
    "        self.exits = []\n",
    "        \n",
    "    def has_space(self):\n",
    "        return self.occupancy < self.capacity\n",
    "    \n",
    "    def available_exits(self):\n",
    "        return [exit for exit in self.exits if exit.valid() ]\n",
    "            \n",
    "    def random_valid_exit(self):\n",
    "        import random\n",
    "        if not self.available_exits():\n",
    "            return None\n",
    "        return random.choice(self.available_exits())\n",
    "    \n",
    "    def add_exit(self, name, target):\n",
    "        self.exits.append(Exit(name, target))\n",
    "    "
   ]
  },
  {
   "cell_type": "code",
   "execution_count": 4,
   "metadata": {
    "code_folding": [
     0
    ]
   },
   "outputs": [
    {
     "name": "stdout",
     "output_type": "stream",
     "text": [
      "Writing mazetool/person.py\n"
     ]
    }
   ],
   "source": [
    "%%writefile mazetool/person.py\n",
    "\n",
    "class Person(object):\n",
    "    def __init__(self, name, room = None):\n",
    "        self.name=name\n",
    "        self.room=room\n",
    "    \n",
    "    def use(self, exit):\n",
    "        self.room.occupancy -= 1\n",
    "        destination=exit.target\n",
    "        destination.occupancy +=1\n",
    "        self.room=destination\n",
    "        print(self.name, \"goes\", exit.name, \"to the\", destination.name)\n",
    "    \n",
    "    def wander(self):\n",
    "        exit = self.room.random_valid_exit()\n",
    "        if exit:\n",
    "            self.use(exit)\n",
    "            \n",
    "    def describe(self):\n",
    "        print(self.name, \"is in the\", self.room.name)"
   ]
  },
  {
   "cell_type": "code",
   "execution_count": 5,
   "metadata": {
    "code_folding": []
   },
   "outputs": [
    {
     "name": "stdout",
     "output_type": "stream",
     "text": [
      "Writing mazetool/exit.py\n"
     ]
    }
   ],
   "source": [
    "%%writefile mazetool/exit.py\n",
    "\n",
    "class Exit(object):\n",
    "    def __init__(self, name, target):\n",
    "        self.name = name\n",
    "        self.target = target\n",
    "    \n",
    "    def valid(self):\n",
    "        return self.target.has_space()"
   ]
  },
  {
   "cell_type": "markdown",
   "metadata": {
    "code_folding": []
   },
   "source": [
    "%%bash\n",
    "\n",
    "touch greetings_repo/greetings/__init__.py"
   ]
  },
  {
   "cell_type": "markdown",
   "metadata": {},
   "source": [
    "# Loading Our Package"
   ]
  },
  {
   "cell_type": "code",
   "execution_count": 9,
   "metadata": {},
   "outputs": [
    {
     "ename": "NameError",
     "evalue": "name 'Maze' is not defined",
     "output_type": "error",
     "traceback": [
      "\u001b[1;31m---------------------------------------------------------------------------\u001b[0m",
      "\u001b[1;31mNameError\u001b[0m                                 Traceback (most recent call last)",
      "\u001b[1;32m<ipython-input-9-3bc371b39bcd>\u001b[0m in \u001b[0;36m<module>\u001b[1;34m()\u001b[0m\n\u001b[1;32m----> 1\u001b[1;33m \u001b[0mmyhouse\u001b[0m \u001b[1;33m=\u001b[0m \u001b[0mMaze\u001b[0m\u001b[1;33m(\u001b[0m\u001b[1;34m'My New House'\u001b[0m\u001b[1;33m)\u001b[0m\u001b[1;33m\u001b[0m\u001b[0m\n\u001b[0m",
      "\u001b[1;31mNameError\u001b[0m: name 'Maze' is not defined"
     ]
    }
   ],
   "source": [
    "myhouse = Maze('My New House')"
   ]
  },
  {
   "cell_type": "code",
   "execution_count": 22,
   "metadata": {},
   "outputs": [],
   "source": [
    "import mazetool\n",
    "mazetool.exit.Exit\n",
    "from mazetool import Maze"
   ]
  },
  {
   "cell_type": "code",
   "execution_count": 33,
   "metadata": {},
   "outputs": [
    {
     "name": "stdout",
     "output_type": "stream",
     "text": [
      "[<mazetool.room.Room object at 0x000001B330E580B8>]\n",
      "[<mazetool.room.Room object at 0x000001B330E580B8>, <mazetool.room.Room object at 0x000001B330E58198>]\n"
     ]
    }
   ],
   "source": [
    "house = Maze('My New House')\n",
    "living = house.add_room('livingroom', 2)\n",
    "print(house.rooms)\n",
    "living = house.add_room('livingroom', 2)\n",
    "print(house.rooms)"
   ]
  },
  {
   "cell_type": "code",
   "execution_count": 34,
   "metadata": {},
   "outputs": [
    {
     "data": {
      "text/plain": [
       "['exit.py', 'maze.py', 'person.py', 'room.py', '__init__.py', '__pycache__']"
      ]
     },
     "execution_count": 34,
     "metadata": {},
     "output_type": "execute_result"
    }
   ],
   "source": [
    "#  Note the files we have created are on the disk in the folder we made:\n",
    "\n",
    "import os\n",
    "os.listdir(os.path.join(os.getcwd(), 'mazetool') )"
   ]
  }
 ],
 "metadata": {
  "kernelspec": {
   "display_name": "Python 3",
   "language": "python",
   "name": "python3"
  },
  "language_info": {
   "codemirror_mode": {
    "name": "ipython",
    "version": 3
   },
   "file_extension": ".py",
   "mimetype": "text/x-python",
   "name": "python",
   "nbconvert_exporter": "python",
   "pygments_lexer": "ipython3",
   "version": "3.7.0"
  },
  "varInspector": {
   "cols": {
    "lenName": 16,
    "lenType": 16,
    "lenVar": 40
   },
   "kernels_config": {
    "python": {
     "delete_cmd_postfix": "",
     "delete_cmd_prefix": "del ",
     "library": "var_list.py",
     "varRefreshCmd": "print(var_dic_list())"
    },
    "r": {
     "delete_cmd_postfix": ") ",
     "delete_cmd_prefix": "rm(",
     "library": "var_list.r",
     "varRefreshCmd": "cat(var_dic_list()) "
    }
   },
   "types_to_exclude": [
    "module",
    "function",
    "builtin_function_or_method",
    "instance",
    "_Feature"
   ],
   "window_display": false
  }
 },
 "nbformat": 4,
 "nbformat_minor": 2
}
