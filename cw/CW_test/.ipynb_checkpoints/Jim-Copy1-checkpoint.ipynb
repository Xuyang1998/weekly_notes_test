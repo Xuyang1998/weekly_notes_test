{
 "cells": [
  {
   "cell_type": "markdown",
   "metadata": {},
   "source": [
    "# Analysis of COVID-19 data\n",
    "With help from Carmen and her associates!"
   ]
  },
  {
   "cell_type": "code",
   "execution_count": 58,
   "metadata": {},
   "outputs": [
    {
     "name": "stdout",
     "output_type": "stream",
     "text": [
      "input successfully\n"
     ]
    }
   ],
   "source": [
    "from pathlib import Path\n",
    "from process_covid import (load_covid_data,\n",
    "                           cases_per_population_by_age,\n",
    "                           hospital_vs_confirmed,\n",
    "                           create_confirmed_plot,\n",
    "                           count_high_rain_low_tests_days)\n",
    "print('input successfully')"
   ]
  },
  {
   "cell_type": "markdown",
   "metadata": {},
   "source": [
    "The data for each area is held in a specific file. Start by loading it in."
   ]
  },
  {
   "cell_type": "code",
   "execution_count": 59,
   "metadata": {},
   "outputs": [],
   "source": [
    "# data_directory = Path(\"covid_data\")\n",
    "data_file = \"ER-Mi-EV_2020-03-16_2020-04-24.json\"\n",
    "data_er = load_covid_data(Path(data_file))"
   ]
  },
  {
   "cell_type": "markdown",
   "metadata": {},
   "source": [
    "And now I can use this variable to do my different analyses.\n",
    "\n",
    "First, I want to see how the number of cases has changed across time, but separated into age groups. This will help me find age-dependent patterns in the spread of the virus."
   ]
  },
  {
   "cell_type": "code",
   "execution_count": 60,
   "metadata": {},
   "outputs": [
    {
     "data": {
      "text/plain": [
       "[('2020-03-16', 1.1153775390770266),\n",
       " ('2020-03-17', 1.115886430984471),\n",
       " ('2020-03-18', 1.1159842948128256),\n",
       " ('2020-03-19', 1.1165636486766852),\n",
       " ('2020-03-20', 1.1167946073116024),\n",
       " ('2020-03-21', 1.1170059931808485),\n",
       " ('2020-03-22', 1.1171038570092031),\n",
       " ('2020-03-23', 1.1172330372626313),\n",
       " ('2020-03-24', 1.117538372407098),\n",
       " ('2020-03-25', 1.1178280493390278),\n",
       " ('2020-03-26', 1.1179063404017116),\n",
       " ('2020-03-27', 1.1183056248213985),\n",
       " ('2020-03-28', 1.1183721722246798),\n",
       " ('2020-03-29', 1.1184935233718394),\n",
       " ('2020-03-30', 1.1189554406416735),\n",
       " ('2020-03-31', 1.120685673126984),\n",
       " ('2020-04-01', 1.121938330129924),\n",
       " ('2020-04-02', 1.1247176628551967),\n",
       " ('2020-04-03', 1.125751104882622),\n",
       " ('2020-04-04', 1.1258489687109767),\n",
       " ('2020-04-05', 1.1258841996891844),\n",
       " ('2020-04-06', 1.1262795695557373),\n",
       " ('2020-04-07', 1.126522271850057),\n",
       " ('2020-04-08', 1.1268197778882552),\n",
       " ('2020-04-09', 1.1276026885150925),\n",
       " ('2020-04-10', 1.1277396978747891),\n",
       " ('2020-04-11', 1.127947169190901),\n",
       " ('2020-04-12', 1.1281272386350736),\n",
       " ('2020-04-13', 1.1282485897822334),\n",
       " ('2020-04-14', 1.128510864842224),\n",
       " ('2020-04-15', 1.1286713615207256),\n",
       " ('2020-04-16', 1.1288122854335563),\n",
       " ('2020-04-17', 1.1288788328368375),\n",
       " ('2020-04-18', 1.1291880825344383),\n",
       " ('2020-04-19', 1.1298574711203841),\n",
       " ('2020-04-20', 1.1318382350062828),\n",
       " ('2020-04-21', 1.1332396450283218),\n",
       " ('2020-04-22', 1.1348289536008016),\n",
       " ('2020-04-23', 1.137056334334154),\n",
       " ('2020-04-24', 1.1378118430890523)]"
      ]
     },
     "execution_count": 60,
     "metadata": {},
     "output_type": "execute_result"
    }
   ],
   "source": [
    "cases_population = cases_per_population_by_age(data_er)\n",
    "cases_population.get('0-24', \"No data in that bin\")"
   ]
  },
  {
   "cell_type": "markdown",
   "metadata": {},
   "source": [
    "I am also interested in how many cases end up in hospital. Specifically, I want to look at the ratio\n",
    "$$\\frac{\\textrm{people hospitalised}}{\\textrm{confirmed cases}}$$\n",
    "and how it changes over time.\n",
    "\n",
    "I haven't decided what exactly I'll do with it yet, so for now I only want to get two lists: one with the dates on which the ratio is computed, and another with its corrsponding values."
   ]
  },
  {
   "cell_type": "code",
   "execution_count": 61,
   "metadata": {},
   "outputs": [
    {
     "name": "stdout",
     "output_type": "stream",
     "text": [
      " 2020-03-16: 0.50\n",
      " 2020-03-17: 0.20\n",
      " 2020-03-18: 0.25\n",
      " 2020-03-19: 0.14\n",
      " 2020-03-20: 0.50\n"
     ]
    }
   ],
   "source": [
    "hosp_conf_dates, hosp_conf_ratio = hospital_vs_confirmed(data_er)\n",
    "for date, ratio in zip(hosp_conf_dates[:5], hosp_conf_ratio[:5]):\n",
    "    print(f\" {date}: {ratio:.2f}\")"
   ]
  },
  {
   "cell_type": "markdown",
   "metadata": {},
   "source": [
    "Plots will be crucial for getting the information across efficiently. Carmen says that this one function is flexible enough to process the data in different ways. One thing I want to see is the evolution of confirmed cases grouped by the patient's sex. This command should plot two lines, one each for male and female:"
   ]
  },
  {
   "cell_type": "code",
   "execution_count": 57,
   "metadata": {},
   "outputs": [
    {
     "ename": "TypeError",
     "evalue": "create_confirmed_plot() missing 4 required positional arguments: 'target_info', 'status', 'show', and 'save'",
     "output_type": "error",
     "traceback": [
      "\u001b[1;31m---------------------------------------------------------------------------\u001b[0m",
      "\u001b[1;31mTypeError\u001b[0m                                 Traceback (most recent call last)",
      "\u001b[1;32m<ipython-input-57-37c922eabdee>\u001b[0m in \u001b[0;36m<module>\u001b[1;34m()\u001b[0m\n\u001b[1;32m----> 1\u001b[1;33m \u001b[0mcreate_confirmed_plot\u001b[0m\u001b[1;33m(\u001b[0m\u001b[0mdata_er\u001b[0m\u001b[1;33m)\u001b[0m\u001b[1;33m\u001b[0m\u001b[0m\n\u001b[0m",
      "\u001b[1;31mTypeError\u001b[0m: create_confirmed_plot() missing 4 required positional arguments: 'target_info', 'status', 'show', and 'save'"
     ]
    }
   ],
   "source": [
    "create_confirmed_plot(data_er)"
   ]
  },
  {
   "cell_type": "markdown",
   "metadata": {},
   "source": [
    "However, I also want to break it down by age instead of sex. In particular, I want to see the cases involving people\n",
    "- up to age 15 (or the age bin they belong to);\n",
    "- up to age 37;\n",
    "- and up to age 99\n",
    "\n",
    "all in the same plot."
   ]
  },
  {
   "cell_type": "code",
   "execution_count": null,
   "metadata": {},
   "outputs": [],
   "source": [
    "create_confirmed_plot(data_er, max_ages=[15, 37, 99])"
   ]
  },
  {
   "cell_type": "markdown",
   "metadata": {},
   "source": [
    "Finally, I want to see if the weather affects how likely people are to get tested. To simplify, I'll consider a day to be \"rainy\" if it rained more than the previous day. Out of those rainy days, on how many were there fewer tests carried out than the previous day? Because the data will be noisy, I first want to smooth the data by replacing each value with the average of the values in a 7-day window around it. Then I will use the smoothened values for this calculation instead of the originals.\n",
    "\n",
    "Carmen says that this one line should do all that:"
   ]
  },
  {
   "cell_type": "code",
   "execution_count": null,
   "metadata": {},
   "outputs": [],
   "source": [
    "ratio = count_high_rain_low_tests_days(data_er)\n",
    "print(f\"A {ratio * 100:6.2f}% of rainy days affected the number of tests\")"
   ]
  },
  {
   "cell_type": "markdown",
   "metadata": {},
   "source": [
    "Let's see what works!"
   ]
  }
 ],
 "metadata": {
  "kernelspec": {
   "display_name": "Python 3",
   "language": "python",
   "name": "python3"
  },
  "language_info": {
   "codemirror_mode": {
    "name": "ipython",
    "version": 3
   },
   "file_extension": ".py",
   "mimetype": "text/x-python",
   "name": "python",
   "nbconvert_exporter": "python",
   "pygments_lexer": "ipython3",
   "version": "3.7.0"
  }
 },
 "nbformat": 4,
 "nbformat_minor": 4
}
