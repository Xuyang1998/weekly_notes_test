{
 "cells": [
  {
   "cell_type": "markdown",
   "metadata": {},
   "source": [
    "Working with files"
   ]
  },
  {
   "cell_type": "code",
   "execution_count": 1,
   "metadata": {},
   "outputs": [
    {
     "name": "stdout",
     "output_type": "stream",
     "text": [
      "Writing mydata.txt\n"
     ]
    }
   ],
   "source": [
    "%%writefile mydata.txt\n",
    "A poet once said, 'The whole universe is in a glass of wine.'\n",
    "We will probably never know in what sense he meant it, \n",
    "for poets do not write to be understood. \n",
    "But it is true that if we look at a glass of wine closely enough we see the entire universe. \n",
    "There are the things of physics: the twisting liquid which evaporates depending\n",
    "on the wind and weather, the reflection in the glass;\n",
    "and our imagination adds atoms.\n",
    "The glass is a distillation of the earth's rocks,\n",
    "and in its composition we see the secrets of the universe's age, and the evolution of stars. \n",
    "What strange array of chemicals are in the wine? How did they come to be? \n",
    "There are the ferments, the enzymes, the substrates, and the products.\n",
    "There in wine is found the great generalization; all life is fermentation.\n",
    "Nobody can discover the chemistry of wine without discovering, \n",
    "as did Louis Pasteur, the cause of much disease.\n",
    "How vivid is the claret, pressing its existence into the consciousness that watches it!\n",
    "If our small minds, for some convenience, divide this glass of wine, this universe, \n",
    "into parts -- \n",
    "physics, biology, geology, astronomy, psychology, and so on -- \n",
    "remember that nature does not know it!\n",
    "\n",
    "So let us put it all back together, not forgetting ultimately what it is for.\n",
    "Let it give us one more final pleasure; drink it and forget it all!\n",
    "   - Richard Feynman"
   ]
  },
  {
   "cell_type": "code",
   "execution_count": 2,
   "metadata": {},
   "outputs": [
    {
     "data": {
      "text/plain": [
       "'D:\\\\jupyter\\\\Python\\\\week4'"
      ]
     },
     "execution_count": 2,
     "metadata": {},
     "output_type": "execute_result"
    }
   ],
   "source": [
    "import os # The 'os' module gives us all the tools we need to search in the file system\n",
    "os.getcwd() # Use the 'getcwd' function from the 'os' module to find where we are on disk."
   ]
  },
  {
   "cell_type": "code",
   "execution_count": 6,
   "metadata": {},
   "outputs": [
    {
     "data": {
      "text/plain": [
       "['mydata.txt']"
      ]
     },
     "execution_count": 6,
     "metadata": {},
     "output_type": "execute_result"
    }
   ],
   "source": [
    "import os\n",
    "[x for x in os.listdir(os.getcwd()) if \".txt\" in x]"
   ]
  },
  {
   "cell_type": "code",
   "execution_count": 7,
   "metadata": {},
   "outputs": [
    {
     "data": {
      "text/plain": [
       "'D:\\\\jupyter\\\\Python'"
      ]
     },
     "execution_count": 7,
     "metadata": {},
     "output_type": "execute_result"
    }
   ],
   "source": [
    "# We can use dirname to get the parent folder for a folder, in a platform independent-way.\n",
    "os.path.dirname(os.getcwd())"
   ]
  },
  {
   "cell_type": "markdown",
   "metadata": {},
   "source": [
    "Open files in python"
   ]
  },
  {
   "cell_type": "code",
   "execution_count": 15,
   "metadata": {},
   "outputs": [
    {
     "data": {
      "text/plain": [
       "_io.TextIOWrapper"
      ]
     },
     "execution_count": 15,
     "metadata": {},
     "output_type": "execute_result"
    }
   ],
   "source": [
    "myfile = open('mydata.txt')\n",
    "type(myfile)"
   ]
  },
  {
   "cell_type": "code",
   "execution_count": 16,
   "metadata": {},
   "outputs": [
    {
     "data": {
      "text/plain": [
       "[\"A poet once said, 'The whole universe is in a glass of wine.'\\n\",\n",
       " 'We will probably never know in what sense he meant it, \\n',\n",
       " 'for poets do not write to be understood. \\n',\n",
       " 'But it is true that if we look at a glass of wine closely enough we see the entire universe. \\n',\n",
       " 'There are the things of physics: the twisting liquid which evaporates depending\\n',\n",
       " 'on the wind and weather, the reflection in the glass;\\n',\n",
       " 'and our imagination adds atoms.\\n',\n",
       " \"The glass is a distillation of the earth's rocks,\\n\",\n",
       " \"and in its composition we see the secrets of the universe's age, and the evolution of stars. \\n\",\n",
       " 'What strange array of chemicals are in the wine? How did they come to be? \\n',\n",
       " 'There are the ferments, the enzymes, the substrates, and the products.\\n',\n",
       " 'There in wine is found the great generalization; all life is fermentation.\\n',\n",
       " 'Nobody can discover the chemistry of wine without discovering, \\n',\n",
       " 'as did Louis Pasteur, the cause of much disease.\\n',\n",
       " 'How vivid is the claret, pressing its existence into the consciousness that watches it!\\n',\n",
       " 'If our small minds, for some convenience, divide this glass of wine, this universe, \\n',\n",
       " 'into parts -- \\n',\n",
       " 'physics, biology, geology, astronomy, psychology, and so on -- \\n',\n",
       " 'remember that nature does not know it!\\n',\n",
       " '\\n',\n",
       " 'So let us put it all back together, not forgetting ultimately what it is for.\\n',\n",
       " 'Let it give us one more final pleasure; drink it and forget it all!\\n',\n",
       " '   - Richard Feynman']"
      ]
     },
     "execution_count": 16,
     "metadata": {},
     "output_type": "execute_result"
    }
   ],
   "source": [
    "[x for x in myfile] # We can go line-by-line, by treating the file as an iterable:"
   ]
  },
  {
   "cell_type": "code",
   "execution_count": 17,
   "metadata": {},
   "outputs": [
    {
     "data": {
      "text/plain": [
       "[56, 39]"
      ]
     },
     "execution_count": 17,
     "metadata": {},
     "output_type": "execute_result"
    }
   ],
   "source": [
    "myfile.seek(0)\n",
    "[len(x) for x in myfile if 'know' in x]"
   ]
  },
  {
   "cell_type": "markdown",
   "metadata": {},
   "source": []
  },
  {
   "cell_type": "code",
   "execution_count": null,
   "metadata": {},
   "outputs": [],
   "source": []
  }
 ],
 "metadata": {
  "kernelspec": {
   "display_name": "Python 3",
   "language": "python",
   "name": "python3"
  },
  "language_info": {
   "codemirror_mode": {
    "name": "ipython",
    "version": 3
   },
   "file_extension": ".py",
   "mimetype": "text/x-python",
   "name": "python",
   "nbconvert_exporter": "python",
   "pygments_lexer": "ipython3",
   "version": "3.7.0"
  }
 },
 "nbformat": 4,
 "nbformat_minor": 2
}
