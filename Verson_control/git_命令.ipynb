{
 "cells": [
  {
   "cell_type": "markdown",
   "metadata": {},
   "source": [
    "本地库初始化"
   ]
  },
  {
   "cell_type": "markdown",
   "metadata": {},
   "source": [
    "## git init: 初始化一个空的git 仓库\n",
    "## pwd: 当前路径\n",
    "## .git 目录中存放的是本地库相关的子目录和文件\n"
   ]
  },
  {
   "cell_type": "markdown",
   "metadata": {},
   "source": [
    "设置签名"
   ]
  },
  {
   "cell_type": "markdown",
   "metadata": {},
   "source": [
    "## 仓库级别：仅在当前本地库范围生效\n",
    "\n",
    "## git config user.name Xuyang1998\n",
    "## git config user.email UCAPM@ucl.ac.uk\n",
    "\n",
    "## 系统用户级别：登录当前操作系统的用户范围\n",
    "\n",
    "## git config --global user.name\n",
    "## git config --global user.email \n",
    "\n",
    "## 就近级别，项目级别优先于系统用户级别\n",
    "\n",
    "## cat .git/config # 查看签名保存地点 （项目级别）\n",
    "\n",
    "## cd ~ \n",
    "## pwd\n",
    "## ls -la| less 查看隐藏文件\n",
    "## cat .gitconfig  查看签名信息\n",
    "##"
   ]
  },
  {
   "cell_type": "markdown",
   "metadata": {},
   "source": [
    "git 版本操作命令"
   ]
  },
  {
   "cell_type": "markdown",
   "metadata": {},
   "source": [
    "## git status 查看工作区的状态： 分支，提交内容\n",
    "## vim good.txt 创建文件\n",
    "## git status # on branch master, no commit yet, untracked files\n",
    "## git add good.txt 添加到暂存区\n",
    "## git rm --cached good.txt # 移除暂存区 \n",
    "## git commit -m \"\"\n"
   ]
  },
  {
   "cell_type": "markdown",
   "metadata": {},
   "source": [
    "git 分支管理\n",
    "同时并行推进多个功能开发，提高开发效率\n",
    "彼此独立"
   ]
  },
  {
   "cell_type": "markdown",
   "metadata": {},
   "source": [
    "## git branch -v  查看所有分支\n",
    "## git branch  hot_fix  创建分支\n",
    "\n",
    "## git checkout hot_fix  切换分支\n",
    "## git branch -v\n",
    "\n",
    "## git checkout master 切换到合并分支上，执行merge\n",
    "## git merge hot_fix # 将 hot_fix 分支上的文件提交到master 上面"
   ]
  },
  {
   "cell_type": "markdown",
   "metadata": {},
   "source": [
    "远程库\n",
    "推送"
   ]
  },
  {
   "cell_type": "markdown",
   "metadata": {},
   "source": [
    "## git remote -v 查看远程库\n",
    "## git remote add origin + 远程库地址， origin 代表之后的地址\n",
    "## git remote -v\n",
    "\n",
    "## Example\n",
    "\n",
    "## mkdir repository\n",
    "## cd repository\n",
    "## git init\n",
    "## git add Jim.ipynb\n",
    "## git commit -m \"\"\n",
    "## git add process.covid.py\n",
    "## git remote add origin git@github.com:UCL/MPHY0021-2020-covid-data-Xuyang1998.git\n",
    "## git branch -M main\n",
    "## git push -u origin main"
   ]
  },
  {
   "cell_type": "code",
   "execution_count": null,
   "metadata": {},
   "outputs": [],
   "source": [
    "克隆"
   ]
  },
  {
   "cell_type": "markdown",
   "metadata": {},
   "source": [
    "## git push origin master\n",
    "## mkdir + filename  创建新的目录\n",
    "## git clone + reposotry的地址（github 赋值）\n",
    "## ll 查看目录\n",
    "## ls -la 查看隐藏文件\n",
    "\n",
    "## 克隆之后不需要初始化本地库\n",
    "#"
   ]
  },
  {
   "cell_type": "markdown",
   "metadata": {},
   "source": [
    "## 拉取\n",
    "\n",
    "## pull = fetch + merge\n",
    "## git fetch[远程库地址别名][远程分支名]\n",
    "## git merge [远程地址库别名/远程分支名]\n"
   ]
  }
 ],
 "metadata": {
  "kernelspec": {
   "display_name": "Python 3",
   "language": "python",
   "name": "python3"
  },
  "language_info": {
   "codemirror_mode": {
    "name": "ipython",
    "version": 3
   },
   "file_extension": ".py",
   "mimetype": "text/x-python",
   "name": "python",
   "nbconvert_exporter": "python",
   "pygments_lexer": "ipython3",
   "version": "3.7.0"
  },
  "varInspector": {
   "cols": {
    "lenName": 16,
    "lenType": 16,
    "lenVar": 40
   },
   "kernels_config": {
    "python": {
     "delete_cmd_postfix": "",
     "delete_cmd_prefix": "del ",
     "library": "var_list.py",
     "varRefreshCmd": "print(var_dic_list())"
    },
    "r": {
     "delete_cmd_postfix": ") ",
     "delete_cmd_prefix": "rm(",
     "library": "var_list.r",
     "varRefreshCmd": "cat(var_dic_list()) "
    }
   },
   "types_to_exclude": [
    "module",
    "function",
    "builtin_function_or_method",
    "instance",
    "_Feature"
   ],
   "window_display": false
  }
 },
 "nbformat": 4,
 "nbformat_minor": 2
}
